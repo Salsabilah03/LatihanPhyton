{
 "cells": [
  {
   "cell_type": "code",
   "execution_count": 1,
   "id": "5d7d1a0a-d296-48ed-a180-8a342fbf33ba",
   "metadata": {},
   "outputs": [
    {
     "name": "stdout",
     "output_type": "stream",
     "text": [
      "{'Count': '10', 'RetMax': '10', 'RetStart': '0', 'IdList': ['1779767744', '1270119336', '1270119252', '1338007152', '1338005776', '38147294', '519704483', '498921833', '145751853', '8452794'], 'TranslationSet': [{'From': 'Utricularia gibba', 'To': '\"Utricularia gibba\"[Organism] OR Utricularia gibba[All Fields]'}], 'TranslationStack': [{'Term': '\"Utricularia gibba\"[Organism]', 'Field': 'Organism', 'Count': '49', 'Explode': 'Y'}, {'Term': 'Utricularia gibba[All Fields]', 'Field': 'All Fields', 'Count': '53', 'Explode': 'N'}, 'OR', 'GROUP', {'Term': 'rbcL[All Fields]', 'Field': 'All Fields', 'Count': '353784', 'Explode': 'N'}, 'AND', 'GROUP'], 'QueryTranslation': '(\"Utricularia gibba\"[Organism] OR Utricularia gibba[All Fields]) AND rbcL[All Fields]'}\n"
     ]
    }
   ],
   "source": [
    "from Bio import Entrez\n",
    "Entrez.email = \"salsabilah_ns03@student.ub.ac.id\" #Mandatory! Can be replaced with your personal email.\n",
    "\n",
    "#creating handle\n",
    "handle = Entrez.esearch(db=\"nuccore\", term=\"Utricularia gibba rbcL\")\n",
    "record = Entrez.read(handle)\n",
    "print(record)\n",
    "handle.close() #always close your handle after you finish"
   ]
  },
  {
   "cell_type": "code",
   "execution_count": 2,
   "id": "d0f5e956-048f-42fc-a487-5611e601f234",
   "metadata": {},
   "outputs": [
    {
     "name": "stdout",
     "output_type": "stream",
     "text": [
      "LOCUS       MK965398                 504 bp    DNA     linear   PLN 07-DEC-2019\n",
      "DEFINITION  Utricularia gibba isolate 18-2 ribulose-1,5-bisphosphate\n",
      "            carboxylase/oxygenase large subunit (rbcL) gene, partial cds;\n",
      "            chloroplast.\n",
      "ACCESSION   MK965398\n",
      "VERSION     MK965398.1\n",
      "KEYWORDS    .\n",
      "SOURCE      chloroplast Utricularia gibba\n",
      "  ORGANISM  Utricularia gibba\n",
      "            Eukaryota; Viridiplantae; Streptophyta; Embryophyta; Tracheophyta;\n",
      "            Spermatophyta; Magnoliopsida; eudicotyledons; Gunneridae;\n",
      "            Pentapetalae; asterids; lamiids; Lamiales; Lentibulariaceae;\n",
      "            Utricularia.\n",
      "REFERENCE   1  (bases 1 to 504)\n",
      "  AUTHORS   Holcomb-Web,K., Oberdorster,E., Stalnaker,G.B. and Strecker,T.\n",
      "  TITLE     Habitat restoration and documentation of native plant species in\n",
      "            Walton Springs, TX\n",
      "  JOURNAL   Unpublished\n",
      "REFERENCE   2  (bases 1 to 504)\n",
      "  AUTHORS   Holcomb-Web,K., Oberdorster,E., Stalnaker,G.B. and Strecker,T.\n",
      "  TITLE     Direct Submission\n",
      "  JOURNAL   Submitted (22-MAY-2019) Biological Sciences, Southern Methodist\n",
      "            University, 6501 Airline Rd., Dallas, TX 75275, USA\n",
      "COMMENT     ##Assembly-Data-START##\n",
      "            Sequencing Technology :: Sanger dideoxy sequencing\n",
      "            ##Assembly-Data-END##\n",
      "FEATURES             Location/Qualifiers\n",
      "     source          1..504\n",
      "                     /organism=\"Utricularia gibba\"\n",
      "                     /organelle=\"plastid:chloroplast\"\n",
      "                     /mol_type=\"genomic DNA\"\n",
      "                     /isolate=\"18-2\"\n",
      "                     /db_xref=\"taxon:13748\"\n",
      "                     /tissue_type=\"leaf\"\n",
      "                     /lat_lon=\"32.35 N 95.87 W\"\n",
      "                     /collection_date=\"24-Mar-2018\"\n",
      "                     /collected_by=\"E. Oberdorster, G. B. Stalnaker\"\n",
      "     gene            complement(<1..>504)\n",
      "                     /gene=\"rbcL\"\n",
      "     CDS             complement(<1..>504)\n",
      "                     /gene=\"rbcL\"\n",
      "                     /EC_number=\"4.1.1.39\"\n",
      "                     /codon_start=2\n",
      "                     /transl_table=11\n",
      "                     /product=\"ribulose-1,5-bisphosphate carboxylase/oxygenase\n",
      "                     large subunit\"\n",
      "                     /protein_id=\"QGQ56711.1\"\n",
      "                     /translation=\"TYYTPEYETKDTDILAAFRVTPQPGVPPEEAGAAVAAESSTGTW\n",
      "                     TTVWTDGLTSLDRYKGRCYNIEPVPGETDQYICYVAYPLDLFEEGSVTNMFTSIVGNV\n",
      "                     FGFKALRALRLEDLRIPAAYVKTFQGPPHGIQVERDKLNKYGRPLLGCTIKPKLGLSA\n",
      "                     KNYGRAV\"\n",
      "ORIGIN      \n",
      "        1 taaactgctc taccatagtt tttagcagat aaacctaatt ttggtttaat cgtacaaccc\n",
      "       61 aacaagggac gaccatactt attcaattta tctctttcaa cttggattcc atgaggcggg\n",
      "      121 ccttggaaag ttttaacata agcagcaggg attcgcagat cctctagacg tagagcccgc\n",
      "      181 agggctttga atccaaatac atttcctaca atggaagtaa acatgttagt aacagaacct\n",
      "      241 tcttcaaaaa ggtctaaagg gtaagctaca taacagatat attgatctgt ttctccagga\n",
      "      301 accggctcga tattgtagca tcgtcctttg taacgatcaa ggctggtaag tccatcggtc\n",
      "      361 catacagttg tccaggtacc agtagaagat tcggcagcta ccgcggcccc tgcttcttca\n",
      "      421 ggcggaaccc caggttgagg ggttactcgg aatgctgcca agatatcagt atccttggtt\n",
      "      481 tcgtattcag gagtataata agtc\n",
      "//\n",
      "\n",
      "\n"
     ]
    }
   ],
   "source": [
    "efetch_handle = Entrez.efetch(db=\"nuccore\", id=\"1779767744\", rettype=\"gb\", retmode=\"text\")\n",
    "gbrecord = efetch_handle.read()\n",
    "print(gbrecord)"
   ]
  },
  {
   "cell_type": "code",
   "execution_count": 3,
   "id": "907c3127-07e0-417f-80e7-3438a2753340",
   "metadata": {},
   "outputs": [
    {
     "name": "stdout",
     "output_type": "stream",
     "text": [
      ">MK965398.1 Utricularia gibba isolate 18-2 ribulose-1,5-bisphosphate carboxylase/oxygenase large subunit (rbcL) gene, partial cds; chloroplast\n",
      "TAAACTGCTCTACCATAGTTTTTAGCAGATAAACCTAATTTTGGTTTAATCGTACAACCCAACAAGGGAC\n",
      "GACCATACTTATTCAATTTATCTCTTTCAACTTGGATTCCATGAGGCGGGCCTTGGAAAGTTTTAACATA\n",
      "AGCAGCAGGGATTCGCAGATCCTCTAGACGTAGAGCCCGCAGGGCTTTGAATCCAAATACATTTCCTACA\n",
      "ATGGAAGTAAACATGTTAGTAACAGAACCTTCTTCAAAAAGGTCTAAAGGGTAAGCTACATAACAGATAT\n",
      "ATTGATCTGTTTCTCCAGGAACCGGCTCGATATTGTAGCATCGTCCTTTGTAACGATCAAGGCTGGTAAG\n",
      "TCCATCGGTCCATACAGTTGTCCAGGTACCAGTAGAAGATTCGGCAGCTACCGCGGCCCCTGCTTCTTCA\n",
      "GGCGGAACCCCAGGTTGAGGGGTTACTCGGAATGCTGCCAAGATATCAGTATCCTTGGTTTCGTATTCAG\n",
      "GAGTATAATAAGTC\n",
      "\n",
      "\n"
     ]
    }
   ],
   "source": [
    "efetch_handle = Entrez.efetch(db=\"nuccore\", id=\"1779767744\", rettype=\"fasta\", retmode=\"text\")\n",
    "gbrecord = efetch_handle.read()\n",
    "print(gbrecord)"
   ]
  },
  {
   "cell_type": "code",
   "execution_count": 8,
   "id": "35adcb8a-f245-4aec-87f2-46090b35e68c",
   "metadata": {},
   "outputs": [
    {
     "name": "stdout",
     "output_type": "stream",
     "text": [
      "FASTA Download\n"
     ]
    }
   ],
   "source": [
    "import os # import os module for OS utilities\n",
    "from Bio import Entrez\n",
    "\n",
    "#creating EFetch handle\n",
    "filename = \"rbcL Utriculari gibba.fasta\" #up to you, but FASTA files always use *.fasta or *.fas \n",
    "\n",
    "#creating EFetch handle\n",
    "if not os.path.isfile(filename):\n",
    "    # Downloading file...\n",
    "    efetch_handle = Entrez.efetch(db=\"nuccore\", id=\"1779767744\", rettype=\"fasta\", retmode=\"text\")\n",
    "    output_file_handle = open(filename, \"w\")\n",
    "    output_file_handle.write(efetch_handle.read())\n",
    "    output_file_handle.close()\n",
    "    efetch_handle.close()\n",
    "    print (\"FASTA Download\")"
   ]
  },
  {
   "cell_type": "code",
   "execution_count": 10,
   "id": "17149ec5-8533-4662-9cfb-9de9dd5ac549",
   "metadata": {},
   "outputs": [
    {
     "name": "stdout",
     "output_type": "stream",
     "text": [
      "GB Download\n"
     ]
    }
   ],
   "source": [
    "#creating EFetch handle\n",
    "filename = \"Utricularia gibba complete chloroplast.gbk\" #up to you, but Genbank files always use *.gb or *.gbk \n",
    "\n",
    "#creating EFetch handle\n",
    "if not os.path.isfile(filename):\n",
    "    # Downloading file...\n",
    "    efetch_handle = Entrez.efetch(db=\"nuccore\", id=\"1779767744\", rettype=\"gb\", retmode=\"text\")\n",
    "    output_file_handle = open(filename, \"w\")\n",
    "    output_file_handle.write(efetch_handle.read())\n",
    "    output_file_handle.close()\n",
    "    efetch_handle.close()\n",
    "    print (\"GB Download\")"
   ]
  },
  {
   "cell_type": "code",
   "execution_count": 11,
   "id": "e4c6bde2-32ed-494c-ad7f-dde6aee6c8ab",
   "metadata": {},
   "outputs": [
    {
     "name": "stdout",
     "output_type": "stream",
     "text": [
      ">rbcL|Utricularia gibba isolate 18-2 ribulose-1,5-bisphosphate carboxylase/oxygenase large subunit (rbcL) gene, partial cds; chloroplast\n",
      "GACTTATTATACTCCTGAATACGAAACCAAGGATACTGATATCTTGGCAGCATTCCGAGTAACCCCTCAACCTGGGGTTCCGCCTGAAGAAGCAGGGGCCGCGGTAGCTGCCGAATCTTCTACTGGTACCTGGACAACTGTATGGACCGATGGACTTACCAGCCTTGATCGTTACAAAGGACGATGCTACAATATCGAGCCGGTTCCTGGAGAAACAGATCAATATATCTGTTATGTAGCTTACCCTTTAGACCTTTTTGAAGAAGGTTCTGTTACTAACATGTTTACTTCCATTGTAGGAAATGTATTTGGATTCAAAGCCCTGCGGGCTCTACGTCTAGAGGATCTGCGAATCCCTGCTGCTTATGTTAAAACTTTCCAAGGCCCGCCTCATGGAATCCAAGTTGAAAGAGATAAATTGAATAAGTATGGTCGTCCCTTGTTGGGTTGTACGATTAAACCAAAATTAGGTTTATCTGCTAAAAACTATGGTAGAGCAGTTTA\n"
     ]
    }
   ],
   "source": [
    "from Bio import SeqIO\n",
    "\n",
    "GoI = \"rbcL\" #change \" rbcL\" here with your GoI\n",
    "\n",
    "for genome in SeqIO.parse(\"Utricularia gibba complete chloroplast.gbk\",\"genbank\"):\n",
    "    for gene in genome.features:\n",
    "        if gene.type != \"CDS\":\n",
    "            continue\n",
    "        if \"gene\" not in gene.qualifiers:\n",
    "            continue\n",
    "        if GoI not in gene.qualifiers[\"gene\"][0]: \n",
    "            continue\n",
    "        gene_seq = gene.extract(genome.seq)\n",
    "\n",
    "GoI_fasta = \">%s|%s\\n%s\" % (GoI, genome.description, gene_seq)\n",
    "print(GoI_fasta)\n"
   ]
  },
  {
   "cell_type": "code",
   "execution_count": 13,
   "id": "c72ecbfb-05a1-4ff7-9355-eee7b340d01f",
   "metadata": {},
   "outputs": [
    {
     "name": "stdout",
     "output_type": "stream",
     "text": [
      "FASTA Download\n"
     ]
    }
   ],
   "source": [
    "from Bio import SeqIO\n",
    "\n",
    "GoI = \"rbcL\" #change \" rbcL\" here with your GoI\n",
    "\n",
    "for genome in SeqIO.parse(\"Utricularia gibba complete chloroplast.gbk\",\"genbank\"):\n",
    "    for gene in genome.features:\n",
    "        if gene.type != \"CDS\":\n",
    "            continue\n",
    "        if \"gene\" not in gene.qualifiers:\n",
    "            continue\n",
    "        if GoI not in gene.qualifiers[\"gene\"][0]: \n",
    "            continue\n",
    "        gene_seq = gene.extract(genome.seq)\n",
    "\n",
    "GoI_fasta = \">%s|%s\\n%s\" % (GoI, genome.description, gene_seq)\n",
    "with open(\"GoI_fasta.fasta\",\"w\") as f:\n",
    "    f.write(GoI_fasta)\n",
    "print (\"FASTA Download\")"
   ]
  },
  {
   "cell_type": "code",
   "execution_count": null,
   "id": "b88cb16b-4707-4412-a4b6-b7be721ba64c",
   "metadata": {},
   "outputs": [],
   "source": []
  }
 ],
 "metadata": {
  "kernelspec": {
   "display_name": "Python 3 (ipykernel)",
   "language": "python",
   "name": "python3"
  },
  "language_info": {
   "codemirror_mode": {
    "name": "ipython",
    "version": 3
   },
   "file_extension": ".py",
   "mimetype": "text/x-python",
   "name": "python",
   "nbconvert_exporter": "python",
   "pygments_lexer": "ipython3",
   "version": "3.9.7"
  }
 },
 "nbformat": 4,
 "nbformat_minor": 5
}
